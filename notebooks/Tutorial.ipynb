{
 "cells": [
  {
   "cell_type": "markdown",
   "id": "be3d764e",
   "metadata": {},
   "source": [
    "The Schelling Segregation Model is a simple agent-based simulation that shows that small preferences for similarity cause self-organization into clusters. \n",
    "\n",
    "The model was introduced in the early 1970s by the American economist Thomas Schelling. The most notable publication where Schelling discussed the model is his 1971 paper titled \"Dynamic Models of Segregation,\" published in the Journal of Mathematical Sociology.\n",
    "\n",
    "In this notebook, we'll use the provided codebase to implement a simple version of the Schelling model. Conceptually, we'll instantiate a grid of simple agents. There are two types of agents, and each agent will be allowed to explore the grid until it finds a position where there is at least one adjacent agent that is of the same group. \n",
    "\n",
    "First, a couple of basic imports and some global params:"
   ]
  },
  {
   "cell_type": "code",
   "execution_count": 18,
   "id": "6b787e70",
   "metadata": {},
   "outputs": [],
   "source": [
    "from zero_schelling_demo.model import Model\n",
    "import numpy as np\n",
    "\n",
    "MIN_LIKE_NEIGHBORS_HAPPY = 1\n",
    "N_AGENTS = 100\n",
    "SIZE_GRID = 38\n",
    "FIGSIZE = 4"
   ]
  },
  {
   "cell_type": "markdown",
   "id": "9383d1b7",
   "metadata": {},
   "source": [
    "...so, in this example we'll have 100 agents on a 38x38 grid. Each agent needs at least one agent of the same group in order to be satisfied.\n",
    "\n",
    "Now, let's instantiate the model with these parameters, and plot the initial configuration:"
   ]
  },
  {
   "cell_type": "code",
   "execution_count": 19,
   "id": "cedfc6af",
   "metadata": {},
   "outputs": [
    {
     "data": {
      "image/png": "[encoded data removed]",
      "text/plain": [
       "<Figure size 400x400 with 1 Axes>"
      ]
     },
     "metadata": {},
     "output_type": "display_data"
    }
   ],
   "source": [
    "from IPython.display import display\n",
    "\n",
    "model = Model(MIN_LIKE_NEIGHBORS_HAPPY, SIZE_GRID, N_AGENTS)\n",
    "display(model.plot(figsize=FIGSIZE))"
   ]
  },
  {
   "cell_type": "markdown",
   "id": "be4d3274",
   "metadata": {},
   "source": [
    "We can see that there are two types of agents and that they are placed in random locations on the grid. \n",
    "\n",
    "Now we can \"solve\" the model. The model is solved through a series of steps, where each step allows unhappy agents to move to one randomly-chosen adjacent cell. Steps are repeated until all agents are happy, i.e. until each agent has at least one neighbor that is of the same group (or color in the graph).\n",
    "\n",
    "We'll run the `solve` method and plot the updated grid:"
   ]
  },
  {
   "cell_type": "code",
   "execution_count": 20,
   "id": "3629194a",
   "metadata": {},
   "outputs": [
    {
     "name": "stdout",
     "output_type": "stream",
     "text": [
      "done, 100 out of 100 are happy. that took 201 out of iteration max 500 steps. \n"
     ]
    },
    {
     "data": {
      "image/png": "[encoded data removed]",
      "text/plain": [
       "<Figure size 400x400 with 1 Axes>"
      ]
     },
     "metadata": {},
     "output_type": "display_data"
    }
   ],
   "source": [
    "model.solve()\n",
    "\n",
    "display(model.plot(figsize=FIGSIZE))"
   ]
  },
  {
   "cell_type": "markdown",
   "id": "f3b38b64",
   "metadata": {},
   "source": [
    "...and there it is!! \n",
    "\n",
    "Observe that, even though there is nothing directly programming the agents to find cliques, the agents have grouped themselves into somewhat exclusive cliques. Each agent is perfectly happy being neighbors with agent(s) from the other group, but they want to have at least 1 out of 8 neighbors of the same group. Because of this minor preference, agents form cliques. \n",
    "\n",
    "Importantly, notice that no agent has any negative prefence against any other agent and, at worst, each agent is neutral towards each other, regardless of group. However, agents do want to have at least one similar neighbor, and through this this simulation we've shown that this preference leads to cliques. \n",
    "\n",
    "Let's come up with a made-up hypothetical that helps translate this to more of a real-world insight. \n",
    "\n",
    ">Zorbs and Xerbs get along just fine. No Zorb dislikes any Xerb and no Xerb dislikes any Zorb. Zorb/Xerb relations are perfectly fine. However, Xerbs tend to live in Xerb neighborhoods and Zorbs tend to live in Zorb neighborhoods. Based on the Schelling model, this segregation arises in a self-organizing fashion through small preferences in individual behavior. Zorbs want to have at least one Zorb neighbor and the same for Xerbs, and this micro-behavior tends to result in the macro outcome of segregated neighborhoods. \n",
    "\n",
    "...this has significant implications for understanding the real world. Intuitively, people have a slight preference for being around people who are part of their own socio-demographic group, and these preferences can lead to self-organizing segregation or cliques; even when there isn't any kind of negative affect between the two groups."
   ]
  }
 ],
 "metadata": {
  "kernelspec": {
   "display_name": "Python 3 (ipykernel)",
   "language": "python",
   "name": "python3"
  },
  "language_info": {
   "codemirror_mode": {
    "name": "ipython",
    "version": 3
   },
   "file_extension": ".py",
   "mimetype": "text/x-python",
   "name": "python",
   "nbconvert_exporter": "python",
   "pygments_lexer": "ipython3",
   "version": "3.12.2"
  }
 },
 "nbformat": 4,
 "nbformat_minor": 5
}
