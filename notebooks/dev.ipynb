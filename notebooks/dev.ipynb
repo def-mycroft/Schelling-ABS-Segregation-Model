{
 "cells": [
  {
   "cell_type": "code",
   "execution_count": 268,
   "id": "2696aaa2",
   "metadata": {},
   "outputs": [],
   "source": [
    "#import os\n",
    "#from os.path import basename\n",
    "#if basename(os.getcwd()) == 'notebooks':\n",
    "#    os.chdir('../')"
   ]
  },
  {
   "cell_type": "code",
   "execution_count": 269,
   "id": "e9339c6b",
   "metadata": {},
   "outputs": [
    {
     "name": "stdout",
     "output_type": "stream",
     "text": [
      "The autoreload extension is already loaded. To reload it, use:\n",
      "  %reload_ext autoreload\n"
     ]
    }
   ],
   "source": [
    "%load_ext autoreload\n",
    "%autoreload 2"
   ]
  },
  {
   "cell_type": "code",
   "execution_count": 270,
   "id": "6b787e70",
   "metadata": {},
   "outputs": [],
   "source": [
    "from zero_schelling_demo import agent\n",
    "from zero_schelling_demo.init_grid import init as init_grid\n",
    "from zero_schelling_demo import graph\n",
    "from zero_schelling_demo.model import Model\n",
    "from zero_schelling_demo.imports import *"
   ]
  },
  {
   "cell_type": "code",
   "execution_count": 271,
   "id": "7ea8a7b8",
   "metadata": {},
   "outputs": [],
   "source": [
    "MIN_LIKE_NEIGHBORS_HAPPY = 1\n",
    "N_AGENTS = 500\n",
    "SIZE_GRID = int(np.sqrt(N_AGENTS * 15))"
   ]
  },
  {
   "cell_type": "code",
   "execution_count": 274,
   "id": "3629194a",
   "metadata": {},
   "outputs": [
    {
     "name": "stderr",
     "output_type": "stream",
     "text": [
      "rm: cannot remove '/l/tmp/schelling/*png': No such file or directory\n"
     ]
    },
    {
     "data": {
      "image/png": "[encoded data removed]",
      "text/plain": [
       "<Figure size 600x600 with 1 Axes>"
      ]
     },
     "metadata": {},
     "output_type": "display_data"
    },
    {
     "name": "stdout",
     "output_type": "stream",
     "text": [
      "done, 500 out of 500 are happy. that took 317 out of iteration max 500 steps. \n"
     ]
    },
    {
     "data": {
      "image/png": "[encoded data removed]",
      "text/plain": [
       "<Figure size 600x600 with 1 Axes>"
      ]
     },
     "metadata": {},
     "output_type": "display_data"
    }
   ],
   "source": [
    "from IPython.display import display\n",
    "\n",
    "fpo = '/l/tmp/schelling'\n",
    "ex(f\"rm {fpo}/*png\")\n",
    "model = Model(MIN_LIKE_NEIGHBORS_HAPPY, SIZE_GRID, N_AGENTS)\n",
    "\n",
    "display(model.plot())\n",
    "model.solve(graphs=True, fp_graphs=fpo)\n",
    "\n",
    "display(model.plot())"
   ]
  },
  {
   "cell_type": "code",
   "execution_count": null,
   "id": "8e03ba1b",
   "metadata": {},
   "outputs": [],
   "source": []
  },
  {
   "cell_type": "code",
   "execution_count": null,
   "id": "754df7a8",
   "metadata": {},
   "outputs": [],
   "source": []
  },
  {
   "cell_type": "code",
   "execution_count": null,
   "id": "f1d7f55b",
   "metadata": {},
   "outputs": [],
   "source": []
  },
  {
   "cell_type": "markdown",
   "id": "aa4e23d3",
   "metadata": {},
   "source": [
    "# Make GIF"
   ]
  },
  {
   "cell_type": "code",
   "execution_count": 278,
   "id": "e164e51b",
   "metadata": {},
   "outputs": [
    {
     "data": {
      "text/plain": [
       "['/l/tmp/schelling/1723754808.624489 - schelling image.png',\n",
       " '/l/tmp/schelling/1723754808.836693 - schelling step 1.png',\n",
       " '/l/tmp/schelling/1723754809.033955 - schelling step 2.png',\n",
       " '/l/tmp/schelling/1723754809.231245 - schelling step 3.png',\n",
       " '/l/tmp/schelling/1723754809.426607 - schelling step 4.png',\n",
       " '/l/tmp/schelling/1723754809.63733 - schelling step 5.png',\n",
       " '/l/tmp/schelling/1723754809.828567 - schelling step 6.png',\n",
       " '/l/tmp/schelling/1723754810.014969 - schelling step 7.png',\n",
       " '/l/tmp/schelling/1723754810.202681 - schelling step 8.png',\n",
       " '/l/tmp/schelling/1723754810.388082 - schelling step 9.png']"
      ]
     },
     "execution_count": 278,
     "metadata": {},
     "output_type": "execute_result"
    }
   ],
   "source": [
    "from PIL import Image\n",
    "\n",
    "# List of image file paths\n",
    "image_files = list(sorted(glob('/l/tmp/schelling/*png')))\n",
    "image_files[:10]"
   ]
  },
  {
   "cell_type": "code",
   "execution_count": 279,
   "id": "8b502f1d",
   "metadata": {},
   "outputs": [],
   "source": [
    "# Open images and store them in a list\n",
    "images = [Image.open(image) for image in image_files]\n",
    "\n",
    "# Save as a GIF\n",
    "images[0].save(\n",
    "    '/l/tmp/output.gif',  # Output file name\n",
    "    save_all=True,\n",
    "    append_images=images[1:],  # Appending the rest of the images\n",
    "    duration=500,  # Duration for each frame in milliseconds\n",
    "    loop=1  # 0 means loop forever\n",
    ")"
   ]
  },
  {
   "cell_type": "code",
   "execution_count": 282,
   "id": "c2cf930f",
   "metadata": {},
   "outputs": [
    {
     "name": "stderr",
     "output_type": "stream",
     "text": [
      "[autoreload of decorator failed: Traceback (most recent call last):\n",
      "  File \"/home/zero/miniconda3/lib/python3.12/site-packages/IPython/extensions/autoreload.py\", line 276, in check\n",
      "    superreload(m, reload, self.old_objects)\n",
      "  File \"/home/zero/miniconda3/lib/python3.12/site-packages/IPython/extensions/autoreload.py\", line 500, in superreload\n",
      "    update_generic(old_obj, new_obj)\n",
      "  File \"/home/zero/miniconda3/lib/python3.12/site-packages/IPython/extensions/autoreload.py\", line 397, in update_generic\n",
      "    update(a, b)\n",
      "  File \"/home/zero/miniconda3/lib/python3.12/site-packages/IPython/extensions/autoreload.py\", line 309, in update_function\n",
      "    setattr(old, name, getattr(new, name))\n",
      "ValueError: ContextManager() requires a code object with 3 free vars, not 0\n",
      "]\n"
     ]
    },
    {
     "name": "stdout",
     "output_type": "stream",
     "text": [
      "The history saving thread hit an unexpected error (NameError(\"name 'fix' is not defined\")).History will not be written to the database.\n",
      "Moviepy - Building video /l/tmp/output_video.mp4.\n",
      "Moviepy - Writing video /l/tmp/output_video.mp4\n",
      "\n"
     ]
    },
    {
     "name": "stderr",
     "output_type": "stream",
     "text": [
      "                                                                                                                                                            "
     ]
    },
    {
     "name": "stdout",
     "output_type": "stream",
     "text": [
      "Moviepy - Done !\n",
      "Moviepy - video ready /l/tmp/output_video.mp4\n"
     ]
    },
    {
     "name": "stderr",
     "output_type": "stream",
     "text": [
      "\r"
     ]
    }
   ],
   "source": [
    "from moviepy.editor import VideoFileClip\n",
    "\n",
    "def gif_to_video(input_gif, output_video):\n",
    "    # Load the GIF file\n",
    "    clip = VideoFileClip(input_gif)\n",
    "    \n",
    "    # Write the video file\n",
    "    clip.write_videofile(output_video, codec='libx264')\n",
    "\n",
    "# Example usage\n",
    "gif_to_video('/l/tmp/output.gif', '/l/tmp/output_video.mp4')\n"
   ]
  },
  {
   "cell_type": "markdown",
   "id": "8c2bc97a",
   "metadata": {},
   "source": [
    "# Scratchpad"
   ]
  },
  {
   "cell_type": "code",
   "execution_count": null,
   "id": "678e70ef",
   "metadata": {},
   "outputs": [],
   "source": []
  },
  {
   "cell_type": "code",
   "execution_count": null,
   "id": "d50c1f00",
   "metadata": {},
   "outputs": [],
   "source": []
  },
  {
   "cell_type": "code",
   "execution_count": 219,
   "id": "dd831a2c",
   "metadata": {
    "collapsed": true
   },
   "outputs": [
    {
     "name": "stdout",
     "output_type": "stream",
     "text": [
      "happy: 487\n",
      "happy: 489\n"
     ]
    },
    {
     "data": {
      "image/png": "[encoded data removed]",
      "text/plain": [
       "<Figure size 400x400 with 1 Axes>"
      ]
     },
     "execution_count": 219,
     "metadata": {},
     "output_type": "execute_result"
    }
   ],
   "source": [
    "print('happy:', model.count_happy())\n",
    "model.step()\n",
    "fig = model.plot(figsize=4, showgrid=False)\n",
    "print('happy:', model.count_happy())\n",
    "fig"
   ]
  },
  {
   "cell_type": "code",
   "execution_count": 53,
   "id": "d1446d11",
   "metadata": {},
   "outputs": [
    {
     "name": "stdout",
     "output_type": "stream",
     "text": [
      "Agent(min_like_neighbors_happy=1, position=(21, 1), group=1, id='65f88cd1-4d72-431f-83e6-768748d48b4d')\n"
     ]
    }
   ],
   "source": [
    "id='65f88cd1-4d72-431f-83e6-768748d48b4d'\n",
    "g = model.grid\n",
    "\n",
    "for i in range(g.shape[0]):\n",
    "    for j in range(g.shape[1]):\n",
    "        if g[i,j] != 0:\n",
    "            if g[i,j].id == id:\n",
    "                break\n",
    "a = g[i,j]\n",
    "print(a)"
   ]
  },
  {
   "cell_type": "code",
   "execution_count": 58,
   "id": "92bff393",
   "metadata": {},
   "outputs": [
    {
     "data": {
      "text/plain": [
       "[(21, 0), (20, 2), (20, 0), (21, 2), (20, 1)]"
      ]
     },
     "execution_count": 58,
     "metadata": {},
     "output_type": "execute_result"
    }
   ],
   "source": [
    "a.get_locs(model.grid)"
   ]
  },
  {
   "cell_type": "code",
   "execution_count": null,
   "id": "ddd29eaf",
   "metadata": {},
   "outputs": [],
   "source": []
  },
  {
   "cell_type": "code",
   "execution_count": null,
   "id": "d5dd4c4f",
   "metadata": {},
   "outputs": [],
   "source": []
  },
  {
   "cell_type": "code",
   "execution_count": 44,
   "id": "79afdce0",
   "metadata": {},
   "outputs": [
    {
     "name": "stdout",
     "output_type": "stream",
     "text": [
      "Agent(min_like_neighbors_happy=1, position=(21, 1), group=1, id='65f88cd1-4d72-431f-83e6-768748d48b4d')\n"
     ]
    },
    {
     "ename": "Exception",
     "evalue": "index 22 is out of bounds for axis 0 with size 22",
     "output_type": "error",
     "traceback": [
      "\u001b[0;31m---------------------------------------------------------------------------\u001b[0m",
      "\u001b[0;31mIndexError\u001b[0m                                Traceback (most recent call last)",
      "File \u001b[0;32m~/code-repos/zero_schelling_dear_ext/zero_schelling_demo/agent.py:88\u001b[0m, in \u001b[0;36mAgent.get_locs\u001b[0;34m(self, grid)\u001b[0m\n\u001b[1;32m     87\u001b[0m \u001b[38;5;28;01mtry\u001b[39;00m:\n\u001b[0;32m---> 88\u001b[0m     \u001b[43mgrid\u001b[49m\u001b[43m[\u001b[49m\u001b[43mx\u001b[49m\u001b[43m,\u001b[49m\u001b[43my\u001b[49m\u001b[43m]\u001b[49m\n\u001b[1;32m     89\u001b[0m \u001b[38;5;28;01mexcept\u001b[39;00m \u001b[38;5;167;01mException\u001b[39;00m \u001b[38;5;28;01mas\u001b[39;00m e:\n",
      "\u001b[0;31mIndexError\u001b[0m: index 22 is out of bounds for axis 0 with size 22",
      "\nDuring handling of the above exception, another exception occurred:\n",
      "\u001b[0;31mException\u001b[0m                                 Traceback (most recent call last)",
      "Cell \u001b[0;32mIn[44], line 3\u001b[0m\n\u001b[1;32m      1\u001b[0m grid \u001b[38;5;241m=\u001b[39m model\u001b[38;5;241m.\u001b[39mgrid\n\u001b[1;32m      2\u001b[0m a \u001b[38;5;241m=\u001b[39m pd\u001b[38;5;241m.\u001b[39mSeries(grid[grid \u001b[38;5;241m!=\u001b[39m \u001b[38;5;241m0\u001b[39m])\u001b[38;5;241m.\u001b[39msample()\u001b[38;5;241m.\u001b[39miloc[\u001b[38;5;241m0\u001b[39m]\n\u001b[0;32m----> 3\u001b[0m \u001b[43ma\u001b[49m\u001b[38;5;241;43m.\u001b[39;49m\u001b[43meval_neighbors\u001b[49m\u001b[43m(\u001b[49m\u001b[43mgrid\u001b[49m\u001b[43m)\u001b[49m\n\u001b[1;32m      4\u001b[0m \u001b[38;5;28mprint\u001b[39m(a)\n\u001b[1;32m      5\u001b[0m a\u001b[38;5;241m.\u001b[39mn_similar_neighbors\n",
      "File \u001b[0;32m~/code-repos/zero_schelling_dear_ext/zero_schelling_demo/agent.py:57\u001b[0m, in \u001b[0;36mAgent.eval_neighbors\u001b[0;34m(self, grid)\u001b[0m\n\u001b[1;32m     55\u001b[0m \u001b[38;5;28;01mdef\u001b[39;00m \u001b[38;5;21meval_neighbors\u001b[39m(\u001b[38;5;28mself\u001b[39m, grid):\n\u001b[1;32m     56\u001b[0m \u001b[38;5;250m    \u001b[39m\u001b[38;5;124;03m\"\"\"Evaluate number of similar neighbors\"\"\"\u001b[39;00m\n\u001b[0;32m---> 57\u001b[0m     \u001b[38;5;28;43mself\u001b[39;49m\u001b[38;5;241;43m.\u001b[39;49m\u001b[43mget_locs\u001b[49m\u001b[43m(\u001b[49m\u001b[43mgrid\u001b[49m\u001b[43m)\u001b[49m\n\u001b[1;32m     58\u001b[0m     \u001b[38;5;28mself\u001b[39m\u001b[38;5;241m.\u001b[39mn_similar_neighbors \u001b[38;5;241m=\u001b[39m \u001b[38;5;241m0\u001b[39m\n\u001b[1;32m     59\u001b[0m     \u001b[38;5;28;01mfor\u001b[39;00m x,y \u001b[38;5;129;01min\u001b[39;00m \u001b[38;5;28mself\u001b[39m\u001b[38;5;241m.\u001b[39mneighbor_locs:\n",
      "File \u001b[0;32m~/code-repos/zero_schelling_dear_ext/zero_schelling_demo/agent.py:91\u001b[0m, in \u001b[0;36mAgent.get_locs\u001b[0;34m(self, grid)\u001b[0m\n\u001b[1;32m     89\u001b[0m     \u001b[38;5;28;01mexcept\u001b[39;00m \u001b[38;5;167;01mException\u001b[39;00m \u001b[38;5;28;01mas\u001b[39;00m e:\n\u001b[1;32m     90\u001b[0m         \u001b[38;5;28mprint\u001b[39m(\u001b[38;5;28mself\u001b[39m\u001b[38;5;241m.\u001b[39m\u001b[38;5;21m__str__\u001b[39m())\n\u001b[0;32m---> 91\u001b[0m         \u001b[38;5;28;01mraise\u001b[39;00m \u001b[38;5;167;01mException\u001b[39;00m(e)\n\u001b[1;32m     94\u001b[0m \u001b[38;5;28;01mreturn\u001b[39;00m \u001b[38;5;28mself\u001b[39m\u001b[38;5;241m.\u001b[39mneighbor_locs\n",
      "\u001b[0;31mException\u001b[0m: index 22 is out of bounds for axis 0 with size 22"
     ]
    }
   ],
   "source": [
    "grid = model.grid\n",
    "a = pd.Series(grid[grid != 0]).sample().iloc[0]\n",
    "a.eval_neighbors(grid)\n",
    "print(a)\n",
    "a.n_similar_neighbors"
   ]
  },
  {
   "cell_type": "code",
   "execution_count": null,
   "id": "b23d1d90",
   "metadata": {},
   "outputs": [],
   "source": [
    "a = grid[4,1]\n",
    "a"
   ]
  },
  {
   "cell_type": "code",
   "execution_count": null,
   "id": "b384616e",
   "metadata": {},
   "outputs": [],
   "source": [
    "a.get_locs(grid)"
   ]
  },
  {
   "cell_type": "code",
   "execution_count": null,
   "id": "63604afd",
   "metadata": {},
   "outputs": [],
   "source": []
  },
  {
   "cell_type": "code",
   "execution_count": null,
   "id": "a76f8539",
   "metadata": {},
   "outputs": [],
   "source": []
  },
  {
   "cell_type": "code",
   "execution_count": null,
   "id": "d8a2c885",
   "metadata": {},
   "outputs": [],
   "source": [
    "from copy import deepcopy as copy\n",
    "from matplotlib.colors import ListedColormap\n",
    "import matplotlib.pyplot as plt\n",
    "\n",
    "grid_viz = copy(grid)\n",
    "\n",
    "for i in range(grid_viz.shape[0]):\n",
    "    for j in range(grid_viz.shape[1]):\n",
    "        a = grid_viz[i,j]\n",
    "        if a:\n",
    "            grid_viz[i,j] = a.group\n",
    "grid_viz = grid_viz.astype(int)\n",
    "\n",
    "matrix = grid_viz\n",
    "\n",
    "colors = ['#D3D3D3', '#9E8257', '#241212']  # White for 0, Orange for 1, Blue for 2\n",
    "cmap = ListedColormap(colors)\n",
    "\n",
    "\n",
    "# Plot the matrix\n",
    "plt.figure(figsize=(10, 8))  # Optional: Set the size of the figure\n",
    "plt.imshow(matrix, cmap=cmap, vmin=0, vmax=2)\n",
    "\n",
    "# Add a color bar to show the mapping of values to colors\n",
    "plt.colorbar(ticks=[0, 1, 2])\n",
    "\n",
    "# Optional: Add grid lines\n",
    "plt.grid(False)  # Disable grid if you don't want lines\n",
    "\n",
    "# Show the plot\n",
    "plt.show()"
   ]
  },
  {
   "cell_type": "code",
   "execution_count": null,
   "id": "a0a53fa1",
   "metadata": {},
   "outputs": [],
   "source": []
  },
  {
   "cell_type": "code",
   "execution_count": null,
   "id": "6eae5a27",
   "metadata": {},
   "outputs": [],
   "source": [
    "grid_viz.astype(int)"
   ]
  },
  {
   "cell_type": "code",
   "execution_count": null,
   "id": "54152b6e",
   "metadata": {},
   "outputs": [],
   "source": []
  },
  {
   "cell_type": "code",
   "execution_count": null,
   "id": "d5d018c0",
   "metadata": {},
   "outputs": [],
   "source": []
  },
  {
   "cell_type": "code",
   "execution_count": null,
   "id": "f89d4c48",
   "metadata": {},
   "outputs": [],
   "source": []
  },
  {
   "cell_type": "code",
   "execution_count": null,
   "id": "9fe4d833",
   "metadata": {},
   "outputs": [],
   "source": []
  },
  {
   "cell_type": "code",
   "execution_count": null,
   "id": "01687046",
   "metadata": {},
   "outputs": [],
   "source": []
  },
  {
   "cell_type": "code",
   "execution_count": null,
   "id": "45b5ba96",
   "metadata": {},
   "outputs": [],
   "source": []
  },
  {
   "cell_type": "code",
   "execution_count": null,
   "id": "8c911d83",
   "metadata": {},
   "outputs": [],
   "source": []
  },
  {
   "cell_type": "code",
   "execution_count": null,
   "id": "54831fbc",
   "metadata": {},
   "outputs": [],
   "source": []
  },
  {
   "cell_type": "code",
   "execution_count": null,
   "id": "eb9f5a28",
   "metadata": {},
   "outputs": [],
   "source": []
  },
  {
   "cell_type": "code",
   "execution_count": null,
   "id": "e9721d9f",
   "metadata": {},
   "outputs": [],
   "source": []
  },
  {
   "cell_type": "code",
   "execution_count": null,
   "id": "3ee8147c",
   "metadata": {},
   "outputs": [],
   "source": []
  },
  {
   "cell_type": "code",
   "execution_count": 234,
   "id": "3a49ea69",
   "metadata": {
    "collapsed": true
   },
   "outputs": [
    {
     "data": {
      "image/png": "[encoded data removed]",
      "text/plain": [
       "<Figure size 400x400 with 1 Axes>"
      ]
     },
     "metadata": {},
     "output_type": "display_data"
    },
    {
     "name": "stdout",
     "output_type": "stream",
     "text": [
      "done, 50 out of 50 are happy. that took 8 out of 1500 possible steps. \n"
     ]
    },
    {
     "data": {
      "image/png": "[encoded data removed]",
      "text/plain": [
       "<Figure size 400x400 with 1 Axes>"
      ]
     },
     "metadata": {},
     "output_type": "display_data"
    }
   ],
   "source": [
    "from IPython.display import display\n",
    "\n",
    "model = Model(MIN_LIKE_NEIGHBORS_HAPPY, SIZE_GRID, N_AGENTS)\n",
    "fig = model.plot(figsize=4, showgrid=False)\n",
    "display(fig)\n",
    "\n",
    "model.solve()\n",
    "fig = model.plot(figsize=4, showgrid=False)\n",
    "display(fig)"
   ]
  }
 ],
 "metadata": {
  "kernelspec": {
   "display_name": "Python 3 (ipykernel)",
   "language": "python",
   "name": "python3"
  },
  "language_info": {
   "codemirror_mode": {
    "name": "ipython",
    "version": 3
   },
   "file_extension": ".py",
   "mimetype": "text/x-python",
   "name": "python",
   "nbconvert_exporter": "python",
   "pygments_lexer": "ipython3",
   "version": "3.12.2"
  }
 },
 "nbformat": 4,
 "nbformat_minor": 5
}
